{
 "cells": [
  {
   "cell_type": "code",
   "execution_count": 10,
   "id": "e6a0b32c-0617-4228-8b63-966bd6c157fc",
   "metadata": {},
   "outputs": [
    {
     "name": "stdout",
     "output_type": "stream",
     "text": [
      "Defaulting to user installation because normal site-packages is not writeable\n",
      "Looking in links: /usr/share/pip-wheels\n",
      "Requirement already satisfied: spacy in ./.local/lib/python3.9/site-packages (3.8.3)\n",
      "Requirement already satisfied: spacy-legacy<3.1.0,>=3.0.11 in ./.local/lib/python3.9/site-packages (from spacy) (3.0.12)\n",
      "Requirement already satisfied: numpy>=1.19.0 in /opt/conda/envs/anaconda-2022.05-py39/lib/python3.9/site-packages (from spacy) (1.21.5)\n",
      "Requirement already satisfied: murmurhash<1.1.0,>=0.28.0 in ./.local/lib/python3.9/site-packages (from spacy) (1.0.12)\n",
      "Requirement already satisfied: weasel<0.5.0,>=0.1.0 in ./.local/lib/python3.9/site-packages (from spacy) (0.4.1)\n",
      "Requirement already satisfied: langcodes<4.0.0,>=3.2.0 in ./.local/lib/python3.9/site-packages (from spacy) (3.5.0)\n",
      "Requirement already satisfied: packaging>=20.0 in /opt/conda/envs/anaconda-2022.05-py39/lib/python3.9/site-packages (from spacy) (21.3)\n",
      "Requirement already satisfied: srsly<3.0.0,>=2.4.3 in ./.local/lib/python3.9/site-packages (from spacy) (2.5.1)\n",
      "Requirement already satisfied: wasabi<1.2.0,>=0.9.1 in ./.local/lib/python3.9/site-packages (from spacy) (1.1.3)\n",
      "Requirement already satisfied: catalogue<2.1.0,>=2.0.6 in ./.local/lib/python3.9/site-packages (from spacy) (2.0.10)\n",
      "Requirement already satisfied: pydantic!=1.8,!=1.8.1,<3.0.0,>=1.7.4 in ./.local/lib/python3.9/site-packages (from spacy) (2.10.5)\n",
      "Requirement already satisfied: setuptools in /opt/conda/envs/anaconda-2022.05-py39/lib/python3.9/site-packages (from spacy) (61.2.0)\n",
      "Requirement already satisfied: tqdm<5.0.0,>=4.38.0 in /opt/conda/envs/anaconda-2022.05-py39/lib/python3.9/site-packages (from spacy) (4.64.0)\n",
      "Requirement already satisfied: requests<3.0.0,>=2.13.0 in /opt/conda/envs/anaconda-2022.05-py39/lib/python3.9/site-packages (from spacy) (2.27.1)\n",
      "Requirement already satisfied: spacy-loggers<2.0.0,>=1.0.0 in ./.local/lib/python3.9/site-packages (from spacy) (1.0.5)\n",
      "Requirement already satisfied: cymem<2.1.0,>=2.0.2 in ./.local/lib/python3.9/site-packages (from spacy) (2.0.11)\n",
      "Requirement already satisfied: preshed<3.1.0,>=3.0.2 in ./.local/lib/python3.9/site-packages (from spacy) (3.0.9)\n",
      "Requirement already satisfied: typer<1.0.0,>=0.3.0 in ./.local/lib/python3.9/site-packages (from spacy) (0.15.1)\n",
      "Requirement already satisfied: thinc<8.4.0,>=8.3.0 in ./.local/lib/python3.9/site-packages (from spacy) (8.3.4)\n",
      "Requirement already satisfied: jinja2 in /opt/conda/envs/anaconda-2022.05-py39/lib/python3.9/site-packages (from spacy) (2.11.3)\n",
      "Requirement already satisfied: language-data>=1.2 in ./.local/lib/python3.9/site-packages (from langcodes<4.0.0,>=3.2.0->spacy) (1.3.0)\n",
      "Requirement already satisfied: marisa-trie>=1.1.0 in ./.local/lib/python3.9/site-packages (from language-data>=1.2->langcodes<4.0.0,>=3.2.0->spacy) (1.2.1)\n",
      "Requirement already satisfied: pyparsing!=3.0.5,>=2.0.2 in /opt/conda/envs/anaconda-2022.05-py39/lib/python3.9/site-packages (from packaging>=20.0->spacy) (3.0.4)\n",
      "Requirement already satisfied: annotated-types>=0.6.0 in ./.local/lib/python3.9/site-packages (from pydantic!=1.8,!=1.8.1,<3.0.0,>=1.7.4->spacy) (0.7.0)\n",
      "Requirement already satisfied: pydantic-core==2.27.2 in ./.local/lib/python3.9/site-packages (from pydantic!=1.8,!=1.8.1,<3.0.0,>=1.7.4->spacy) (2.27.2)\n",
      "Requirement already satisfied: typing-extensions>=4.12.2 in ./.local/lib/python3.9/site-packages (from pydantic!=1.8,!=1.8.1,<3.0.0,>=1.7.4->spacy) (4.12.2)\n",
      "Requirement already satisfied: urllib3<1.27,>=1.21.1 in /opt/conda/envs/anaconda-2022.05-py39/lib/python3.9/site-packages (from requests<3.0.0,>=2.13.0->spacy) (1.26.9)\n",
      "Requirement already satisfied: idna<4,>=2.5 in /opt/conda/envs/anaconda-2022.05-py39/lib/python3.9/site-packages (from requests<3.0.0,>=2.13.0->spacy) (3.3)\n",
      "Requirement already satisfied: certifi>=2017.4.17 in /opt/conda/envs/anaconda-2022.05-py39/lib/python3.9/site-packages (from requests<3.0.0,>=2.13.0->spacy) (2021.10.8)\n",
      "Requirement already satisfied: charset-normalizer~=2.0.0 in /opt/conda/envs/anaconda-2022.05-py39/lib/python3.9/site-packages (from requests<3.0.0,>=2.13.0->spacy) (2.0.4)\n",
      "Requirement already satisfied: blis<1.3.0,>=1.2.0 in ./.local/lib/python3.9/site-packages (from thinc<8.4.0,>=8.3.0->spacy) (1.2.0)\n",
      "Requirement already satisfied: confection<1.0.0,>=0.0.1 in ./.local/lib/python3.9/site-packages (from thinc<8.4.0,>=8.3.0->spacy) (0.1.5)\n",
      "Requirement already satisfied: shellingham>=1.3.0 in ./.local/lib/python3.9/site-packages (from typer<1.0.0,>=0.3.0->spacy) (1.5.4)\n",
      "Requirement already satisfied: click>=8.0.0 in /opt/conda/envs/anaconda-2022.05-py39/lib/python3.9/site-packages (from typer<1.0.0,>=0.3.0->spacy) (8.0.4)\n",
      "Requirement already satisfied: rich>=10.11.0 in ./.local/lib/python3.9/site-packages (from typer<1.0.0,>=0.3.0->spacy) (13.9.4)\n",
      "Requirement already satisfied: markdown-it-py>=2.2.0 in ./.local/lib/python3.9/site-packages (from rich>=10.11.0->typer<1.0.0,>=0.3.0->spacy) (3.0.0)\n",
      "Requirement already satisfied: pygments<3.0.0,>=2.13.0 in ./.local/lib/python3.9/site-packages (from rich>=10.11.0->typer<1.0.0,>=0.3.0->spacy) (2.19.1)\n",
      "Requirement already satisfied: mdurl~=0.1 in ./.local/lib/python3.9/site-packages (from markdown-it-py>=2.2.0->rich>=10.11.0->typer<1.0.0,>=0.3.0->spacy) (0.1.2)\n",
      "Requirement already satisfied: cloudpathlib<1.0.0,>=0.7.0 in ./.local/lib/python3.9/site-packages (from weasel<0.5.0,>=0.1.0->spacy) (0.20.0)\n",
      "Requirement already satisfied: smart-open<8.0.0,>=5.2.1 in ./.local/lib/python3.9/site-packages (from weasel<0.5.0,>=0.1.0->spacy) (7.1.0)\n",
      "Requirement already satisfied: wrapt in /opt/conda/envs/anaconda-2022.05-py39/lib/python3.9/site-packages (from smart-open<8.0.0,>=5.2.1->weasel<0.5.0,>=0.1.0->spacy) (1.12.1)\n",
      "Requirement already satisfied: MarkupSafe>=0.23 in /opt/conda/envs/anaconda-2022.05-py39/lib/python3.9/site-packages (from jinja2->spacy) (2.0.1)\n",
      "Defaulting to user installation because normal site-packages is not writeable\n",
      "Looking in links: /usr/share/pip-wheels\n",
      "Collecting en-core-web-sm==3.8.0\n",
      "  Downloading https://github.com/explosion/spacy-models/releases/download/en_core_web_sm-3.8.0/en_core_web_sm-3.8.0-py3-none-any.whl (12.8 MB)\n",
      "\u001b[K     |████████████████████████████████| 12.8 MB 23.6 MB/s eta 0:00:01\n",
      "\u001b[?25h\u001b[38;5;2m✔ Download and installation successful\u001b[0m\n",
      "You can now load the package via spacy.load('en_core_web_sm')\n"
     ]
    }
   ],
   "source": [
    "!pip install spacy\n",
    "!python -m spacy download en_core_web_sm"
   ]
  },
  {
   "cell_type": "code",
   "execution_count": 48,
   "id": "399906b6-694a-47c3-bd3e-e32c7d033137",
   "metadata": {
    "editable": true,
    "slideshow": {
     "slide_type": ""
    },
    "tags": []
   },
   "outputs": [
    {
     "name": "stdin",
     "output_type": "stream",
     "text": [
      "Please enter a paragraph with PII information:  John Smith, the CEO of Tech Innovations Inc., met with Jane Doe, a senior manager at Global Solutions Ltd., to discuss a new collaboration. John Smith mentioned that the company was planning a major expansion in Europe by the end of 2025. During their conversation, Jane Doe shared her team’s progress on the project, and Jane Doe expressed excitement about the upcoming launch. John Smith also asked Jane Doe about the ongoing market research, which Jane Doe believed would significantly benefit their partnership. John Smith also provided his contact details:john.smith@techinnovations.com and 111-555-1234. Jane Doe shared her email, jane.doe@globalsolutions.com, and phone number, 111-555-5678, for further communication.\n"
     ]
    },
    {
     "name": "stdout",
     "output_type": "stream",
     "text": [
      "\n",
      "Detected Enttities:\n",
      "Text: John Smith, Category: PERSON\n",
      "Text: Tech Innovations Inc., Category: ORG\n",
      "Text: Jane Doe, Category: PERSON\n",
      "Text: Global Solutions Ltd., Category: ORG\n",
      "Text: John Smith, Category: PERSON\n",
      "Text: Europe, Category: LOC\n",
      "Text: the end of 2025, Category: DATE\n",
      "Text: Jane, Category: PERSON\n",
      "Text: Jane Doe, Category: PERSON\n",
      "Text: John Smith, Category: PERSON\n",
      "Text: Jane, Category: PERSON\n",
      "Text: Jane Doe, Category: PERSON\n",
      "Text: John Smith, Category: PERSON\n",
      "Text: details:john.smith@techinnovations.com, Category: ORG\n",
      "Text: 111, Category: CARDINAL\n",
      "Text: Jane, Category: PERSON\n",
      "Text: 111, Category: CARDINAL\n",
      "Text: john.smith@techinnovations.com, Category: EMAIL\n",
      "Text: jane.doe@globalsolutions.com, Category: EMAIL\n",
      "Text: 111-555-1234, Category: PHONE\n",
      "Text: 111-555-5678, Category: PHONE\n",
      "\n",
      "Masked Text:\n",
      "[PERSON], the CEO of Tech Innovations Inc., met with [PERSON], a senior manager at Global Solutions Ltd., to discuss a new collaboration. [PERSON] mentioned that the company was planning a major expansion in Europe by [DATE]. During their conversation, [PERSON] shared her team’s progress on the project, and [PERSON] expressed excitement about the upcoming launch. [PERSON] also asked [PERSON] about the ongoing market research, which [PERSON] believed would significantly benefit their partnership. [PERSON] also provided his contact [ORG] and [PHONE]. [PERSON] shared her email, [EMAIL], and phone number, [PHONE], for further communication.\n"
     ]
    }
   ],
   "source": [
    "import spacy\n",
    "import re\n",
    "nlp=spacy.load(\"en_core_web_sm\")\n",
    "def extract_and_mask_pii():\n",
    "    input_text = input(\"Please enter a paragraph with PII information: \")\n",
    "    doc = nlp(input_text)\n",
    "    pii_masked = input_text\n",
    "    pii_replacements = {\n",
    "        'PERSON': '[PERSON]',\n",
    "        'ORG': '[ORG]',\n",
    "        'GPE': '[GPE]',\n",
    "        'DATE': '[DATE]',\n",
    "        'PHONE': '[PHONE]',\n",
    "        'EMAIL': '[EMAIL]',\n",
    "        'ADDRESS': '[ADDRESS]',\n",
    "    }\n",
    "    entity_list = [(ent.text, ent.label_) for ent in doc.ents]\n",
    "    email_pattern = r'[a-zA-Z0-9._%+-]+@[a-zA-Z0-9.-]+\\.[a-zA-Z]{2,}'\n",
    "    phone_pattern = r'\\b\\d{3}[-.\\s]?\\d{3}[-.\\s]?\\d{4}\\b'\n",
    "    email_matches = re.findall(email_pattern, input_text)\n",
    "    phone_matches = re.findall(phone_pattern, input_text)\n",
    "    for email in email_matches:\n",
    "        entity_list.append((email, 'EMAIL'))\n",
    "\n",
    "    for phone in phone_matches:\n",
    "        entity_list.append((phone, 'PHONE'))\n",
    "        \n",
    "        \n",
    "    \n",
    "    print(\"\\nDetected Enttities:\")\n",
    "    for ent in entity_list:\n",
    "        print(f\"Text: {ent[0]}, Category: {ent[1]}\")\n",
    "\n",
    "    for ent_text, ent_label in entity_list:\n",
    "        if ent_label in pii_replacements:\n",
    "            escaped_text = re.escape(ent_text)\n",
    "            pii_masked = re.sub(r'\\b' + escaped_text + r'\\b', pii_replacements[ent_label], pii_masked)\n",
    "            \n",
    "            \n",
    "    print(\"\\nMasked Text:\")\n",
    "    print(pii_masked)\n",
    "        \n",
    "\n",
    "extract_and_mask_pii()"
   ]
  },
  {
   "cell_type": "code",
   "execution_count": null,
   "id": "10fa84dc-8429-40c6-87f6-eac0e526155c",
   "metadata": {},
   "outputs": [],
   "source": []
  }
 ],
 "metadata": {
  "kernelspec": {
   "display_name": "anaconda-2022.05-py39",
   "language": "python",
   "name": "conda-env-anaconda-2022.05-py39-py"
  },
  "language_info": {
   "codemirror_mode": {
    "name": "ipython",
    "version": 3
   },
   "file_extension": ".py",
   "mimetype": "text/x-python",
   "name": "python",
   "nbconvert_exporter": "python",
   "pygments_lexer": "ipython3",
   "version": "3.9.12"
  }
 },
 "nbformat": 4,
 "nbformat_minor": 5
}
